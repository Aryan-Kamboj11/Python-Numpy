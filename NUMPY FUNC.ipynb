{
 "cells": [
  {
   "cell_type": "markdown",
   "id": "e8694342",
   "metadata": {},
   "source": [
    "# NUMPY FUNC"
   ]
  },
  {
   "cell_type": "code",
   "execution_count": 144,
   "id": "d24b9345",
   "metadata": {},
   "outputs": [],
   "source": [
    "# np.sort\n",
    "\n",
    "import numpy as np\n",
    "\n",
    "arr=np.random.randint(0,100,10).reshape(2,5)"
   ]
  },
  {
   "cell_type": "code",
   "execution_count": 145,
   "id": "5e3f0f75",
   "metadata": {},
   "outputs": [
    {
     "name": "stdout",
     "output_type": "stream",
     "text": [
      "[[ 8 30 14  7 52]\n",
      " [ 7 35 65 18 44]]\n",
      "[[ 7 30 14  7 44]\n",
      " [ 8 35 65 18 52]]\n",
      "[[ 7  8 14 30 52]\n",
      " [ 7 18 35 44 65]]\n"
     ]
    }
   ],
   "source": [
    "print(arr)\n",
    "print(np.sort(arr,axis=0)) # column wise sorting\n",
    "print(np.sort(arr,axis=1)) # row wise sorting default "
   ]
  },
  {
   "cell_type": "code",
   "execution_count": 146,
   "id": "edf12245",
   "metadata": {},
   "outputs": [
    {
     "data": {
      "text/plain": [
       "array([[ 7,  8, 14, 30, 52],\n",
       "       [ 7, 18, 35, 44, 65]])"
      ]
     },
     "execution_count": 146,
     "metadata": {},
     "output_type": "execute_result"
    }
   ],
   "source": [
    "np.sort(arr,axis=1)"
   ]
  },
  {
   "cell_type": "code",
   "execution_count": 155,
   "id": "b37565df",
   "metadata": {},
   "outputs": [
    {
     "data": {
      "text/plain": [
       "array([[ 7,  8, 14, 30, 52],\n",
       "       [ 7, 18, 35, 44, 65]])"
      ]
     },
     "execution_count": 155,
     "metadata": {},
     "output_type": "execute_result"
    }
   ],
   "source": [
    "np.sort(arr)"
   ]
  },
  {
   "cell_type": "code",
   "execution_count": 148,
   "id": "e6f60ed3",
   "metadata": {},
   "outputs": [],
   "source": [
    "arr[::-1].sort()"
   ]
  },
  {
   "cell_type": "code",
   "execution_count": 143,
   "id": "a2930a19",
   "metadata": {},
   "outputs": [
    {
     "data": {
      "text/plain": [
       "array([ 44.,  22.,   1.,  85.,  57.,   1.,  99.,   5.,   1.,   0.,  11.,\n",
       "         1.,   7.,  30.,   1., 200.])"
      ]
     },
     "execution_count": 143,
     "metadata": {},
     "output_type": "execute_result"
    }
   ],
   "source": [
    "# np.append\n",
    "\n",
    "arr=np.append(a,200)\n",
    "arr"
   ]
  },
  {
   "cell_type": "code",
   "execution_count": 99,
   "id": "67113583",
   "metadata": {},
   "outputs": [
    {
     "data": {
      "text/plain": [
       "array([[44., 22.,  1.],\n",
       "       [85., 57.,  1.],\n",
       "       [99.,  5.,  1.],\n",
       "       [ 0., 11.,  1.],\n",
       "       [ 7., 30.,  1.]])"
      ]
     },
     "execution_count": 99,
     "metadata": {},
     "output_type": "execute_result"
    }
   ],
   "source": [
    "a=np.random.randint(0,100,10).reshape(5,2)\n",
    "a=np.append(a,np.ones((a.shape[0],1)),axis=1)\n",
    "a"
   ]
  },
  {
   "cell_type": "code",
   "execution_count": 124,
   "id": "4b37fdb1",
   "metadata": {},
   "outputs": [
    {
     "data": {
      "text/plain": [
       "array([[44.        , 22.        ,  1.        ,  0.83815947],\n",
       "       [85.        , 57.        ,  1.        ,  0.66339894],\n",
       "       [99.        ,  5.        ,  1.        ,  0.31378533],\n",
       "       [ 0.        , 11.        ,  1.        ,  0.33214438],\n",
       "       [ 7.        , 30.        ,  1.        ,  0.84322034]])"
      ]
     },
     "execution_count": 124,
     "metadata": {},
     "output_type": "execute_result"
    }
   ],
   "source": [
    "np.append(a,np.random.random((a.shape[0],1)),axis=1)"
   ]
  },
  {
   "cell_type": "code",
   "execution_count": 131,
   "id": "689f6bd1",
   "metadata": {},
   "outputs": [
    {
     "name": "stdout",
     "output_type": "stream",
     "text": [
      "[[0 1 2]\n",
      " [3 4 5]]\n",
      "[[ 6  7  8]\n",
      " [ 9 10 11]]\n"
     ]
    }
   ],
   "source": [
    "#np.concatenate\n",
    "\n",
    "b = np.arange(6).reshape(2,3)\n",
    "c = np.arange(6,12).reshape(2,3)\n",
    "\n",
    "print(b)\n",
    "print(c)"
   ]
  },
  {
   "cell_type": "code",
   "execution_count": 132,
   "id": "e8e3b5b2",
   "metadata": {},
   "outputs": [
    {
     "data": {
      "text/plain": [
       "array([[ 0,  1,  2],\n",
       "       [ 3,  4,  5],\n",
       "       [ 6,  7,  8],\n",
       "       [ 9, 10, 11]])"
      ]
     },
     "execution_count": 132,
     "metadata": {},
     "output_type": "execute_result"
    }
   ],
   "source": [
    "np.concatenate((b,c),axis=0) # Row wise concatination "
   ]
  },
  {
   "cell_type": "code",
   "execution_count": 133,
   "id": "8a2e237d",
   "metadata": {},
   "outputs": [
    {
     "data": {
      "text/plain": [
       "array([[ 0,  1,  2,  6,  7,  8],\n",
       "       [ 3,  4,  5,  9, 10, 11]])"
      ]
     },
     "execution_count": 133,
     "metadata": {},
     "output_type": "execute_result"
    }
   ],
   "source": [
    "np.concatenate((b,c),axis=1) # Column wise concatination"
   ]
  },
  {
   "cell_type": "code",
   "execution_count": 157,
   "id": "1ec730ef",
   "metadata": {},
   "outputs": [],
   "source": [
    "#unique\n",
    "\n",
    "e = np.array([1,2,2,3,3,4,4,5,6,7,8,9,9])"
   ]
  },
  {
   "cell_type": "code",
   "execution_count": 159,
   "id": "fe818ba8",
   "metadata": {},
   "outputs": [
    {
     "data": {
      "text/plain": [
       "array([1, 2, 3, 4, 5, 6, 7, 8, 9])"
      ]
     },
     "execution_count": 159,
     "metadata": {},
     "output_type": "execute_result"
    }
   ],
   "source": [
    "np.unique(e)"
   ]
  },
  {
   "cell_type": "code",
   "execution_count": 160,
   "id": "06ab812f",
   "metadata": {},
   "outputs": [
    {
     "data": {
      "text/plain": [
       "(13,)"
      ]
     },
     "execution_count": 160,
     "metadata": {},
     "output_type": "execute_result"
    }
   ],
   "source": [
    "#np.expand_dims - used to expand dimension with it's help we can get expanded dimensions of a numpy array.\n",
    "\n",
    "e.shape"
   ]
  },
  {
   "cell_type": "code",
   "execution_count": 161,
   "id": "155b7827",
   "metadata": {},
   "outputs": [
    {
     "data": {
      "text/plain": [
       "(1, 13)"
      ]
     },
     "execution_count": 161,
     "metadata": {},
     "output_type": "execute_result"
    }
   ],
   "source": [
    "np.expand_dims(e,axis=0).shape"
   ]
  },
  {
   "cell_type": "code",
   "execution_count": 164,
   "id": "c7ebd062",
   "metadata": {},
   "outputs": [
    {
     "data": {
      "text/plain": [
       "array([[1, 2, 2, 3, 3, 4, 4, 5, 6, 7, 8, 9, 9]])"
      ]
     },
     "execution_count": 164,
     "metadata": {},
     "output_type": "execute_result"
    }
   ],
   "source": [
    "np.expand_dims(e,axis=0)"
   ]
  },
  {
   "cell_type": "code",
   "execution_count": 162,
   "id": "62bd4247",
   "metadata": {},
   "outputs": [
    {
     "data": {
      "text/plain": [
       "(13, 1)"
      ]
     },
     "execution_count": 162,
     "metadata": {},
     "output_type": "execute_result"
    }
   ],
   "source": [
    "np.expand_dims(e,axis=1).shape"
   ]
  },
  {
   "cell_type": "code",
   "execution_count": 163,
   "id": "4a9dff83",
   "metadata": {},
   "outputs": [
    {
     "data": {
      "text/plain": [
       "array([[1],\n",
       "       [2],\n",
       "       [2],\n",
       "       [3],\n",
       "       [3],\n",
       "       [4],\n",
       "       [4],\n",
       "       [5],\n",
       "       [6],\n",
       "       [7],\n",
       "       [8],\n",
       "       [9],\n",
       "       [9]])"
      ]
     },
     "execution_count": 163,
     "metadata": {},
     "output_type": "execute_result"
    }
   ],
   "source": [
    "np.expand_dims(e,axis=1)"
   ]
  },
  {
   "cell_type": "code",
   "execution_count": 166,
   "id": "93977160",
   "metadata": {},
   "outputs": [],
   "source": [
    "# np.where it will return the indices of elements where a given condition is satisfied.\n",
    "arr2 = np.random.randint(1,100,25).reshape(5,5) "
   ]
  },
  {
   "cell_type": "code",
   "execution_count": 168,
   "id": "64280d4b",
   "metadata": {},
   "outputs": [
    {
     "data": {
      "text/plain": [
       "(array([0, 1, 1, 1, 1, 2, 3, 4, 4, 4], dtype=int64),\n",
       " array([0, 0, 1, 2, 3, 0, 3, 0, 1, 4], dtype=int64))"
      ]
     },
     "execution_count": 168,
     "metadata": {},
     "output_type": "execute_result"
    }
   ],
   "source": [
    "np.where(arr2>50)"
   ]
  },
  {
   "cell_type": "code",
   "execution_count": 171,
   "id": "d86c75e8",
   "metadata": {},
   "outputs": [
    {
     "data": {
      "text/plain": [
       "array([[ 0, 29, 12, 41, 29],\n",
       "       [ 0,  0,  0,  0,  4],\n",
       "       [ 0, 44, 38, 16, 41],\n",
       "       [34, 45,  9,  0, 47],\n",
       "       [ 0,  0,  6, 45,  0]])"
      ]
     },
     "execution_count": 171,
     "metadata": {},
     "output_type": "execute_result"
    }
   ],
   "source": [
    "#  np.where(condition,true,false)\n",
    "\n",
    "np.where(arr2>50,0,arr2)"
   ]
  },
  {
   "cell_type": "code",
   "execution_count": 172,
   "id": "9685b837",
   "metadata": {},
   "outputs": [
    {
     "data": {
      "text/plain": [
       "array([[64,  0,  0,  0,  0],\n",
       "       [51, 57, 87, 65,  0],\n",
       "       [53,  0,  0,  0,  0],\n",
       "       [ 0,  0,  0, 76,  0],\n",
       "       [81, 55,  0,  0, 76]])"
      ]
     },
     "execution_count": 172,
     "metadata": {},
     "output_type": "execute_result"
    }
   ],
   "source": [
    "np.where(arr2>50,arr2,0)"
   ]
  },
  {
   "cell_type": "code",
   "execution_count": 173,
   "id": "8c6c648c",
   "metadata": {},
   "outputs": [
    {
     "data": {
      "text/plain": [
       "array([[ 0, 29,  0, 41, 29],\n",
       "       [51, 57, 87, 65,  0],\n",
       "       [53,  0,  0,  0, 41],\n",
       "       [ 0, 45,  9,  0, 47],\n",
       "       [81, 55,  0, 45,  0]])"
      ]
     },
     "execution_count": 173,
     "metadata": {},
     "output_type": "execute_result"
    }
   ],
   "source": [
    "np.where(arr2%2==0,0,arr2)"
   ]
  },
  {
   "cell_type": "code",
   "execution_count": 178,
   "id": "9eeb0bda",
   "metadata": {},
   "outputs": [
    {
     "data": {
      "text/plain": [
       "array([[64, 29, 12, 41, 29],\n",
       "       [51, 57, 87, 65,  4],\n",
       "       [53, 44, 38, 16, 41],\n",
       "       [34, 45,  9, 76, 47],\n",
       "       [81, 55,  6, 45, 76]])"
      ]
     },
     "execution_count": 178,
     "metadata": {},
     "output_type": "execute_result"
    }
   ],
   "source": [
    "arr2"
   ]
  },
  {
   "cell_type": "code",
   "execution_count": 183,
   "id": "d70ed5e5",
   "metadata": {},
   "outputs": [
    {
     "data": {
      "text/plain": [
       "array([4, 1, 1, 3, 4], dtype=int64)"
      ]
     },
     "execution_count": 183,
     "metadata": {},
     "output_type": "execute_result"
    }
   ],
   "source": [
    "#np.argmax it returns the indices of the max element of array in given axis.\n",
    "\n",
    "np.argmax(arr2,axis=0)"
   ]
  },
  {
   "cell_type": "code",
   "execution_count": 180,
   "id": "b5772251",
   "metadata": {},
   "outputs": [
    {
     "data": {
      "text/plain": [
       "array([2, 4, 3, 2, 2], dtype=int64)"
      ]
     },
     "execution_count": 180,
     "metadata": {},
     "output_type": "execute_result"
    }
   ],
   "source": [
    "np.argmin(arr2,axis=1)"
   ]
  },
  {
   "cell_type": "code",
   "execution_count": 202,
   "id": "1e7898dc",
   "metadata": {},
   "outputs": [
    {
     "name": "stdout",
     "output_type": "stream",
     "text": [
      "81\n",
      "57\n",
      "87\n",
      "76\n",
      "76\n"
     ]
    }
   ],
   "source": [
    "for i,j in zip(np.argmax(arr2,axis=0),range(5)):\n",
    "    print(arr2[i,j])"
   ]
  },
  {
   "cell_type": "code",
   "execution_count": 208,
   "id": "0ef2705a",
   "metadata": {},
   "outputs": [
    {
     "name": "stdout",
     "output_type": "stream",
     "text": [
      "12\n",
      "4\n",
      "16\n",
      "9\n",
      "6\n"
     ]
    }
   ],
   "source": [
    "for j,i in zip(np.argmin(arr2,axis=1),range(5)):\n",
    "    print(arr2[i,j])"
   ]
  },
  {
   "cell_type": "code",
   "execution_count": 213,
   "id": "02fc9504",
   "metadata": {},
   "outputs": [
    {
     "data": {
      "text/plain": [
       "array([64, 29, 12, 41, 29])"
      ]
     },
     "execution_count": 213,
     "metadata": {},
     "output_type": "execute_result"
    }
   ],
   "source": [
    "arr2[0]"
   ]
  },
  {
   "cell_type": "code",
   "execution_count": 210,
   "id": "af543065",
   "metadata": {},
   "outputs": [
    {
     "data": {
      "text/plain": [
       "array([ 64,  93, 105, 146, 175], dtype=int32)"
      ]
     },
     "execution_count": 210,
     "metadata": {},
     "output_type": "execute_result"
    }
   ],
   "source": [
    "# np.cumsum is used to find cumulative sum of the array for a given axis.\n",
    "np.cumsum(arr2[0])"
   ]
  },
  {
   "cell_type": "code",
   "execution_count": 216,
   "id": "74f2a679",
   "metadata": {},
   "outputs": [
    {
     "data": {
      "text/plain": [
       "array([64, 51, 53, 34, 81])"
      ]
     },
     "execution_count": 216,
     "metadata": {},
     "output_type": "execute_result"
    }
   ],
   "source": [
    "arr2[:,0]"
   ]
  },
  {
   "cell_type": "code",
   "execution_count": 214,
   "id": "3ab5a03e",
   "metadata": {},
   "outputs": [
    {
     "data": {
      "text/plain": [
       "array([[ 64,  29,  12,  41,  29],\n",
       "       [115,  86,  99, 106,  33],\n",
       "       [168, 130, 137, 122,  74],\n",
       "       [202, 175, 146, 198, 121],\n",
       "       [283, 230, 152, 243, 197]], dtype=int32)"
      ]
     },
     "execution_count": 214,
     "metadata": {},
     "output_type": "execute_result"
    }
   ],
   "source": [
    "np.cumsum(arr2,axis=0) # for column "
   ]
  },
  {
   "cell_type": "code",
   "execution_count": 218,
   "id": "876fa0a5",
   "metadata": {},
   "outputs": [
    {
     "data": {
      "text/plain": [
       "array([[      64,     1856,    22272,   913152, 26481408],\n",
       "       [      51,     2907,   252909, 16439085, 65756340],\n",
       "       [      53,     2332,    88616,  1417856, 58132096],\n",
       "       [      34,     1530,    13770,  1046520, 49186440],\n",
       "       [      81,     4455,    26730,  1202850, 91416600]], dtype=int32)"
      ]
     },
     "execution_count": 218,
     "metadata": {},
     "output_type": "execute_result"
    }
   ],
   "source": [
    "np.cumprod(arr2,axis=1)"
   ]
  },
  {
   "cell_type": "code",
   "execution_count": 219,
   "id": "b92c0095",
   "metadata": {},
   "outputs": [
    {
     "data": {
      "text/plain": [
       "array([[       64,        29,        12,        41,        29],\n",
       "       [     3264,      1653,      1044,      2665,       116],\n",
       "       [   172992,     72732,     39672,     42640,      4756],\n",
       "       [  5881728,   3272940,    357048,   3240640,    223532],\n",
       "       [476419968, 180011700,   2142288, 145828800,  16988432]],\n",
       "      dtype=int32)"
      ]
     },
     "execution_count": 219,
     "metadata": {},
     "output_type": "execute_result"
    }
   ],
   "source": [
    "np.cumprod(arr2,axis=0)"
   ]
  },
  {
   "cell_type": "code",
   "execution_count": 225,
   "id": "0229d30b",
   "metadata": {},
   "outputs": [
    {
     "data": {
      "text/plain": [
       "array([[64, 29, 12, 41, 29],\n",
       "       [51, 57, 87, 65,  4],\n",
       "       [53, 44, 38, 16, 41],\n",
       "       [34, 45,  9, 76, 47],\n",
       "       [81, 55,  6, 45, 76]])"
      ]
     },
     "execution_count": 225,
     "metadata": {},
     "output_type": "execute_result"
    }
   ],
   "source": [
    "arr2"
   ]
  },
  {
   "cell_type": "code",
   "execution_count": 222,
   "id": "012fff0f",
   "metadata": {},
   "outputs": [
    {
     "data": {
      "text/plain": [
       "87.0"
      ]
     },
     "execution_count": 222,
     "metadata": {},
     "output_type": "execute_result"
    }
   ],
   "source": [
    "# np.percentile it is used to compute the nth percentile of the given data\n",
    "\n",
    "np.percentile(arr2,100)"
   ]
  },
  {
   "cell_type": "code",
   "execution_count": 223,
   "id": "8ed328c9",
   "metadata": {},
   "outputs": [
    {
     "data": {
      "text/plain": [
       "4.0"
      ]
     },
     "execution_count": 223,
     "metadata": {},
     "output_type": "execute_result"
    }
   ],
   "source": [
    "np.percentile(arr2,0)"
   ]
  },
  {
   "cell_type": "code",
   "execution_count": 224,
   "id": "9232c786",
   "metadata": {},
   "outputs": [
    {
     "data": {
      "text/plain": [
       "45.0"
      ]
     },
     "execution_count": 224,
     "metadata": {},
     "output_type": "execute_result"
    }
   ],
   "source": [
    "np.percentile(arr2,50)"
   ]
  },
  {
   "cell_type": "code",
   "execution_count": 226,
   "id": "800f5815",
   "metadata": {},
   "outputs": [
    {
     "data": {
      "text/plain": [
       "array([64, 51, 57, 87, 65, 53, 76, 47, 81, 55, 76])"
      ]
     },
     "execution_count": 226,
     "metadata": {},
     "output_type": "execute_result"
    }
   ],
   "source": [
    "arr2[arr2>np.percentile(arr2,50)]"
   ]
  },
  {
   "cell_type": "code",
   "execution_count": 233,
   "id": "3a4b0c38",
   "metadata": {},
   "outputs": [
    {
     "data": {
      "text/plain": [
       "array([[64, 29, 12, 41, 29],\n",
       "       [51, 57, 87, 65,  4],\n",
       "       [53, 44, 38, 16, 41],\n",
       "       [34, 45,  9, 76, 47],\n",
       "       [81, 55,  6, 45, 76]])"
      ]
     },
     "execution_count": 233,
     "metadata": {},
     "output_type": "execute_result"
    }
   ],
   "source": [
    "#np.histogram\n",
    "\n",
    "arr2"
   ]
  },
  {
   "cell_type": "code",
   "execution_count": 234,
   "id": "e5135a07",
   "metadata": {},
   "outputs": [
    {
     "data": {
      "text/plain": [
       "(array([3, 2, 2, 2, 6, 4, 2, 2, 2, 0], dtype=int64),\n",
       " array([  0,  10,  20,  30,  40,  50,  60,  70,  80,  90, 100]))"
      ]
     },
     "execution_count": 234,
     "metadata": {},
     "output_type": "execute_result"
    }
   ],
   "source": [
    "np.histogram(arr2,bins=[0,10,20,30,40,50,60,70,80,90,100])"
   ]
  },
  {
   "cell_type": "code",
   "execution_count": 235,
   "id": "f206bba3",
   "metadata": {},
   "outputs": [
    {
     "data": {
      "text/plain": [
       "(array([15, 10], dtype=int64), array([  0,  50, 100]))"
      ]
     },
     "execution_count": 235,
     "metadata": {},
     "output_type": "execute_result"
    }
   ],
   "source": [
    "np.histogram(arr2,bins=[0,50,100])"
   ]
  },
  {
   "cell_type": "code",
   "execution_count": 242,
   "id": "56a4731a",
   "metadata": {},
   "outputs": [
    {
     "data": {
      "text/plain": [
       "array([[1.        , 0.58498633],\n",
       "       [0.58498633, 1.        ]])"
      ]
     },
     "execution_count": 242,
     "metadata": {},
     "output_type": "execute_result"
    }
   ],
   "source": [
    "#np.corrcoef correlation-coefficient It returns the pearson product  \n",
    "\n",
    "salary =np.array([20000,400000,500000,600000,10000000])\n",
    "\n",
    "exp = np.array([1,2,1,3,3])\n",
    "\n",
    "np.corrcoef(salary,exp)"
   ]
  },
  {
   "cell_type": "code",
   "execution_count": 243,
   "id": "413b9127",
   "metadata": {},
   "outputs": [
    {
     "data": {
      "text/plain": [
       "array([[False, False, False, False, False],\n",
       "       [False, False,  True, False,  True],\n",
       "       [False, False, False,  True, False],\n",
       "       [False, False, False, False,  True],\n",
       "       [False, False,  True, False, False]])"
      ]
     },
     "execution_count": 243,
     "metadata": {},
     "output_type": "execute_result"
    }
   ],
   "source": [
    "#np.isin \n",
    "\n",
    "items = [47,4,16,6,87]\n",
    "\n",
    "np.isin(arr2,items)"
   ]
  },
  {
   "cell_type": "code",
   "execution_count": 246,
   "id": "3d3d1eaf",
   "metadata": {},
   "outputs": [
    {
     "data": {
      "text/plain": [
       "(5,)"
      ]
     },
     "execution_count": 246,
     "metadata": {},
     "output_type": "execute_result"
    }
   ],
   "source": [
    "arr2[np.isin(arr2,items)]"
   ]
  },
  {
   "cell_type": "code",
   "execution_count": 249,
   "id": "1a2970c4",
   "metadata": {},
   "outputs": [
    {
     "data": {
      "text/plain": [
       "array([[64, 29, 12, 41, 29],\n",
       "       [51, 57, 87, 65,  4],\n",
       "       [53, 44, 38, 16, 41],\n",
       "       [34, 45,  9, 76, 47],\n",
       "       [81, 55,  6, 45, 76]])"
      ]
     },
     "execution_count": 249,
     "metadata": {},
     "output_type": "execute_result"
    }
   ],
   "source": [
    "arr2"
   ]
  },
  {
   "cell_type": "code",
   "execution_count": 250,
   "id": "460da7ae",
   "metadata": {},
   "outputs": [
    {
     "data": {
      "text/plain": [
       "array([[29, 41, 12, 29, 64],\n",
       "       [ 4, 65, 87, 57, 51],\n",
       "       [41, 16, 38, 44, 53],\n",
       "       [47, 76,  9, 45, 34],\n",
       "       [76, 45,  6, 55, 81]])"
      ]
     },
     "execution_count": 250,
     "metadata": {},
     "output_type": "execute_result"
    }
   ],
   "source": [
    "# flip it reverses the order of the array element along the specified axis preserving the shape of the array.\n",
    "\n",
    "np.flip(arr2,axis=1) #row wise flip"
   ]
  },
  {
   "cell_type": "code",
   "execution_count": 252,
   "id": "8ce761b7",
   "metadata": {},
   "outputs": [
    {
     "data": {
      "text/plain": [
       "array([[76, 45,  6, 55, 81],\n",
       "       [47, 76,  9, 45, 34],\n",
       "       [41, 16, 38, 44, 53],\n",
       "       [ 4, 65, 87, 57, 51],\n",
       "       [29, 41, 12, 29, 64]])"
      ]
     },
     "execution_count": 252,
     "metadata": {},
     "output_type": "execute_result"
    }
   ],
   "source": [
    "np.flip(arr2)"
   ]
  },
  {
   "cell_type": "code",
   "execution_count": 251,
   "id": "35f1d4b7",
   "metadata": {},
   "outputs": [
    {
     "data": {
      "text/plain": [
       "array([[81, 55,  6, 45, 76],\n",
       "       [34, 45,  9, 76, 47],\n",
       "       [53, 44, 38, 16, 41],\n",
       "       [51, 57, 87, 65,  4],\n",
       "       [64, 29, 12, 41, 29]])"
      ]
     },
     "execution_count": 251,
     "metadata": {},
     "output_type": "execute_result"
    }
   ],
   "source": [
    "np.flip(arr2,axis=0)"
   ]
  },
  {
   "cell_type": "code",
   "execution_count": null,
   "id": "42248366",
   "metadata": {},
   "outputs": [],
   "source": []
  },
  {
   "cell_type": "code",
   "execution_count": null,
   "id": "657d5012",
   "metadata": {},
   "outputs": [],
   "source": []
  },
  {
   "cell_type": "code",
   "execution_count": null,
   "id": "c72669e3",
   "metadata": {},
   "outputs": [],
   "source": []
  },
  {
   "cell_type": "code",
   "execution_count": null,
   "id": "b0ae6bc1",
   "metadata": {},
   "outputs": [],
   "source": []
  },
  {
   "cell_type": "code",
   "execution_count": null,
   "id": "2bbeda70",
   "metadata": {},
   "outputs": [],
   "source": []
  },
  {
   "cell_type": "code",
   "execution_count": null,
   "id": "44fc4f27",
   "metadata": {},
   "outputs": [],
   "source": []
  },
  {
   "cell_type": "code",
   "execution_count": null,
   "id": "81d672ce",
   "metadata": {},
   "outputs": [],
   "source": []
  },
  {
   "cell_type": "code",
   "execution_count": null,
   "id": "20eedb22",
   "metadata": {},
   "outputs": [],
   "source": []
  },
  {
   "cell_type": "code",
   "execution_count": null,
   "id": "fe942882",
   "metadata": {},
   "outputs": [],
   "source": []
  },
  {
   "cell_type": "code",
   "execution_count": null,
   "id": "bc9d32bd",
   "metadata": {},
   "outputs": [],
   "source": []
  },
  {
   "cell_type": "code",
   "execution_count": null,
   "id": "52377743",
   "metadata": {},
   "outputs": [],
   "source": []
  },
  {
   "cell_type": "code",
   "execution_count": null,
   "id": "cc9aef07",
   "metadata": {},
   "outputs": [],
   "source": []
  }
 ],
 "metadata": {
  "kernelspec": {
   "display_name": "Python 3 (ipykernel)",
   "language": "python",
   "name": "python3"
  },
  "language_info": {
   "codemirror_mode": {
    "name": "ipython",
    "version": 3
   },
   "file_extension": ".py",
   "mimetype": "text/x-python",
   "name": "python",
   "nbconvert_exporter": "python",
   "pygments_lexer": "ipython3",
   "version": "3.9.7"
  }
 },
 "nbformat": 4,
 "nbformat_minor": 5
}
