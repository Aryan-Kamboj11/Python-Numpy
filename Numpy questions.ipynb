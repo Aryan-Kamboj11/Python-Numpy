{
 "cells": [
  {
   "cell_type": "code",
   "execution_count": 1,
   "id": "0690dc04",
   "metadata": {},
   "outputs": [],
   "source": [
    "import numpy as np\n"
   ]
  },
  {
   "cell_type": "code",
   "execution_count": 2,
   "id": "aa816d7f",
   "metadata": {},
   "outputs": [
    {
     "data": {
      "text/plain": [
       "'1.20.3'"
      ]
     },
     "execution_count": 2,
     "metadata": {},
     "output_type": "execute_result"
    }
   ],
   "source": [
    "# seeing the numpy version.\n",
    "\n",
    "np.__version__"
   ]
  },
  {
   "cell_type": "code",
   "execution_count": 4,
   "id": "4cb7ff3e",
   "metadata": {},
   "outputs": [
    {
     "name": "stdout",
     "output_type": "stream",
     "text": [
      "[1 2 3 4 5 6 7 8 9]\n"
     ]
    }
   ],
   "source": [
    "# create a 1d numpy array\n",
    "\n",
    "a = np.arange(1,10)\n",
    "print(a)"
   ]
  },
  {
   "cell_type": "code",
   "execution_count": 11,
   "id": "7c5787cf",
   "metadata": {},
   "outputs": [
    {
     "name": "stdout",
     "output_type": "stream",
     "text": [
      "[[ True  True  True]\n",
      " [ True  True  True]\n",
      " [ True  True  True]]\n",
      "[[ True  True  True]\n",
      " [ True  True  True]\n",
      " [ True  True  True]]\n"
     ]
    }
   ],
   "source": [
    "# create a boolean array\n",
    "\n",
    "b = np.full((9),True,dtype=bool).reshape(3,3)\n",
    "print(b)\n",
    "b_ones = np.ones((3,3),dtype=bool)\n",
    "print(b_ones)"
   ]
  },
  {
   "cell_type": "code",
   "execution_count": 13,
   "id": "4d93bc4e",
   "metadata": {},
   "outputs": [
    {
     "name": "stdout",
     "output_type": "stream",
     "text": [
      "[4 5 6 7 8 9] [2 4 6 8]\n"
     ]
    }
   ],
   "source": [
    "# extracting items that satisfy a condition\n",
    "\n",
    "print(a[a>3],a[a%2==0])"
   ]
  },
  {
   "cell_type": "code",
   "execution_count": 15,
   "id": "7fb17d11",
   "metadata": {},
   "outputs": [
    {
     "name": "stdout",
     "output_type": "stream",
     "text": [
      "[1 2 3 0 0 0 0 0 0]\n"
     ]
    }
   ],
   "source": [
    "# replace the item that satisfy a particular condition by a certain item\n",
    "\n",
    "a[a>3]=0\n",
    "print(a)"
   ]
  },
  {
   "cell_type": "code",
   "execution_count": 19,
   "id": "11afa528",
   "metadata": {},
   "outputs": [
    {
     "name": "stdout",
     "output_type": "stream",
     "text": [
      "[-1  1 -1  3 -1  5 -1  7 -1  9] [0 1 2 3 4 5 6 7 8 9]\n"
     ]
    }
   ],
   "source": [
    "# replacing items such that they didn't affect our original array\n",
    "\n",
    "a = np.arange(10)\n",
    "\n",
    "new_arr = a.copy()\n",
    "\n",
    "new_arr[new_arr%2 == 0] = -1\n",
    "\n",
    "print(new_arr,a)"
   ]
  },
  {
   "cell_type": "code",
   "execution_count": 21,
   "id": "80299280",
   "metadata": {},
   "outputs": [
    {
     "data": {
      "text/plain": [
       "array([[0, 1, 2, 3, 4],\n",
       "       [5, 6, 7, 8, 9]])"
      ]
     },
     "execution_count": 21,
     "metadata": {},
     "output_type": "execute_result"
    }
   ],
   "source": [
    "# reshaping an array\n",
    "\n",
    "arr = np.arange(10) # created the 1-D array\n",
    "\n",
    "arr.reshape(2,5)    # reshaping the 1-D array into 2 * 5 configuration"
   ]
  },
  {
   "cell_type": "code",
   "execution_count": 24,
   "id": "61b04f8a",
   "metadata": {},
   "outputs": [
    {
     "data": {
      "text/plain": [
       "array([[0, 1, 2, 3, 4],\n",
       "       [5, 6, 7, 8, 9],\n",
       "       [0, 1, 2, 3, 4],\n",
       "       [5, 6, 7, 8, 9]])"
      ]
     },
     "execution_count": 24,
     "metadata": {},
     "output_type": "execute_result"
    }
   ],
   "source": [
    "# stack two arrays vertically\n",
    "\n",
    "arr = arr.reshape(2,5)\n",
    "\n",
    "brr = arr.copy()\n",
    "\n",
    "np.vstack((arr,brr)) # vstack will take a tuple as an argument."
   ]
  },
  {
   "cell_type": "code",
   "execution_count": 25,
   "id": "1b5ffd07",
   "metadata": {},
   "outputs": [
    {
     "data": {
      "text/plain": [
       "array([[0, 1, 2, 3, 4, 0, 1, 2, 3, 4],\n",
       "       [5, 6, 7, 8, 9, 5, 6, 7, 8, 9]])"
      ]
     },
     "execution_count": 25,
     "metadata": {},
     "output_type": "execute_result"
    }
   ],
   "source": [
    "# stack two arrays horizontally\n",
    "\n",
    "arr = arr.reshape(2,5)\n",
    "\n",
    "brr = arr.copy()\n",
    "\n",
    "np.hstack((arr,brr))"
   ]
  },
  {
   "cell_type": "code",
   "execution_count": 29,
   "id": "1c0ea750",
   "metadata": {},
   "outputs": [
    {
     "data": {
      "text/plain": [
       "array([1, 1, 1, 2, 2, 2, 3, 3, 3, 1, 2, 3, 1, 2, 3, 1, 2, 3])"
      ]
     },
     "execution_count": 29,
     "metadata": {},
     "output_type": "execute_result"
    }
   ],
   "source": [
    "# Question: Create the following pattern without hardcoding. Use only numpy functions and the below input array a.\n",
    "\n",
    "# Input: a = np.array([1,2,3])\n",
    "# Output: array([1, 1, 1, 2, 2, 2, 3, 3, 3, 1, 2, 3, 1, 2, 3, 1, 2, 3])\n",
    "\n",
    "a = np.array([1,2,3])\n",
    "\n",
    "\n",
    "np.hstack([np.repeat(a,3),np.tile(a,3)])\n"
   ]
  },
  {
   "cell_type": "code",
   "execution_count": 35,
   "id": "d9dd12db",
   "metadata": {},
   "outputs": [
    {
     "data": {
      "text/plain": [
       "array([1, 2, 4])"
      ]
     },
     "execution_count": 35,
     "metadata": {},
     "output_type": "execute_result"
    }
   ],
   "source": [
    "# get common items between two numpy array\n",
    "\n",
    "\n",
    "arr1 = np.array([1,2,3,4,5])\n",
    "arr2 = np.array([1,2,4])\n",
    "\n",
    "np.intersect1d(arr1,arr2)"
   ]
  },
  {
   "cell_type": "code",
   "execution_count": 37,
   "id": "6842e343",
   "metadata": {},
   "outputs": [],
   "source": [
    "xy,x_ind,y_ind=np.intersect1d(arr1,arr2,return_indices=True)"
   ]
  },
  {
   "cell_type": "code",
   "execution_count": 38,
   "id": "b3138bae",
   "metadata": {},
   "outputs": [
    {
     "name": "stdout",
     "output_type": "stream",
     "text": [
      "[1 2 4] [0 1 3] [0 1 2]\n"
     ]
    }
   ],
   "source": [
    "print(xy,x_ind,y_ind)"
   ]
  },
  {
   "cell_type": "code",
   "execution_count": 40,
   "id": "2690c449",
   "metadata": {},
   "outputs": [
    {
     "data": {
      "text/plain": [
       "array([3, 5])"
      ]
     },
     "execution_count": 40,
     "metadata": {},
     "output_type": "execute_result"
    }
   ],
   "source": [
    "# remove elements which exist only in other array\n",
    "\n",
    "np.setdiff1d(arr1,arr2)"
   ]
  },
  {
   "cell_type": "code",
   "execution_count": 43,
   "id": "32efbc06",
   "metadata": {},
   "outputs": [
    {
     "data": {
      "text/plain": [
       "(array([1, 3, 5, 7], dtype=int64),)"
      ]
     },
     "execution_count": 43,
     "metadata": {},
     "output_type": "execute_result"
    }
   ],
   "source": [
    "a = np.array([1,2,3,2,3,4,3,4,5,6])\n",
    "b = np.array([7,2,10,2,7,4,9,4,9,8])\n",
    "\n",
    "np.where(a == b)"
   ]
  },
  {
   "cell_type": "code",
   "execution_count": 47,
   "id": "ba3d46ff",
   "metadata": {},
   "outputs": [
    {
     "data": {
      "text/plain": [
       "array([ 6,  9, 10])"
      ]
     },
     "execution_count": 47,
     "metadata": {},
     "output_type": "execute_result"
    }
   ],
   "source": [
    "# extract all the number between 5 and 10 from a\n",
    "a = np.array([2, 6, 1, 9, 10, 3, 27])\n",
    "\n",
    "a[(a >= 5) & (a <= 10)]"
   ]
  },
  {
   "cell_type": "code",
   "execution_count": 51,
   "id": "d3457a2b",
   "metadata": {},
   "outputs": [
    {
     "data": {
      "text/plain": [
       "array([6, 7, 9, 8, 9, 7, 5])"
      ]
     },
     "execution_count": 51,
     "metadata": {},
     "output_type": "execute_result"
    }
   ],
   "source": [
    "# Convert the function maxx on two scalars two work on two arrays\n",
    "\n",
    "def maxx(x,y):\n",
    "    if x > y:\n",
    "        return x\n",
    "    else:\n",
    "        return y\n",
    "    \n",
    "def maxx_taker(x,y):\n",
    "    maximum = [maxx(a,b) for a,b in zip(x,y)]\n",
    "    return np.array(maximum)\n",
    "\n",
    "a = np.array([5, 7, 9, 8, 6, 4, 5])\n",
    "b = np.array([6, 3, 4, 8, 9, 7, 1])\n",
    "\n",
    "maxx_taker(a,b)"
   ]
  },
  {
   "cell_type": "code",
   "execution_count": 60,
   "id": "c69504da",
   "metadata": {},
   "outputs": [
    {
     "name": "stdout",
     "output_type": "stream",
     "text": [
      "\n",
      "Original Array:\n",
      " [[0 1 2 3 4]\n",
      " [5 6 7 8 9]]\n",
      "\n",
      "Modified Array:\n",
      " [[1 0 4 3 2]\n",
      " [6 5 9 8 7]]\n"
     ]
    }
   ],
   "source": [
    "# swaping two rows in numpy 2d array\n",
    "\n",
    "arr1 =  np.arange(10).reshape(2,5)\n",
    "\n",
    "print('\\nOriginal Array:\\n',arr1)\n",
    "print('\\nModified Array:\\n',arr1[:,[1,0,4,3,2]])"
   ]
  },
  {
   "cell_type": "code",
   "execution_count": 63,
   "id": "55aa56be",
   "metadata": {},
   "outputs": [
    {
     "name": "stdout",
     "output_type": "stream",
     "text": [
      "\n",
      "Original Array:\n",
      " [[0 1 2 3 4]\n",
      " [5 6 7 8 9]]\n",
      "\n",
      "Modified Array:\n",
      " [[4 3 2 1 0]\n",
      " [9 8 7 6 5]]\n"
     ]
    }
   ],
   "source": [
    "# reversing colums of a 2d array\n",
    "\n",
    "print('\\nOriginal Array:\\n',arr1)\n",
    "\n",
    "print('\\nModified Array:\\n',arr1[:,::-1])"
   ]
  },
  {
   "cell_type": "code",
   "execution_count": 64,
   "id": "845fde05",
   "metadata": {},
   "outputs": [
    {
     "name": "stdout",
     "output_type": "stream",
     "text": [
      "\n",
      "Original Array:\n",
      " [[0 1 2 3 4]\n",
      " [5 6 7 8 9]]\n",
      "\n",
      "Modified Array:\n",
      " [[5 6 7 8 9]\n",
      " [0 1 2 3 4]]\n"
     ]
    }
   ],
   "source": [
    "# reversing rows of a 2d array\n",
    "\n",
    "print('\\nOriginal Array:\\n',arr1)\n",
    "\n",
    "print('\\nModified Array:\\n',arr1[::-1,:])"
   ]
  },
  {
   "cell_type": "code",
   "execution_count": 77,
   "id": "8e654365",
   "metadata": {},
   "outputs": [
    {
     "data": {
      "text/plain": [
       "array([[7.88428619, 4.85398872, 4.96933418],\n",
       "       [4.37950371, 4.8308356 , 8.91604639],\n",
       "       [8.22247586, 6.71793122, 7.77175145]])"
      ]
     },
     "execution_count": 77,
     "metadata": {},
     "output_type": "execute_result"
    }
   ],
   "source": [
    "# create a 2d numpy array containing random float numper between 3 and 10\n",
    "\n",
    "\n",
    "np.random.uniform(3,10,size = (3,3))"
   ]
  },
  {
   "cell_type": "code",
   "execution_count": 79,
   "id": "7ee28143",
   "metadata": {},
   "outputs": [
    {
     "data": {
      "text/plain": [
       "array([[0.573, 0.88 , 0.451],\n",
       "       [0.453, 0.444, 0.508]])"
      ]
     },
     "execution_count": 79,
     "metadata": {},
     "output_type": "execute_result"
    }
   ],
   "source": [
    "# print only 3 decimal places in numpy array\n",
    "\n",
    "rand_arr = np.random.random((2,3))\n",
    "np.set_printoptions(precision=3)\n",
    "rand_arr"
   ]
  },
  {
   "cell_type": "code",
   "execution_count": 105,
   "id": "77c1e1a6",
   "metadata": {},
   "outputs": [
    {
     "data": {
      "text/plain": [
       "array([[0.077, 0.772, 0.572],\n",
       "       [0.401, 0.11 , 0.379]])"
      ]
     },
     "execution_count": 105,
     "metadata": {},
     "output_type": "execute_result"
    }
   ],
   "source": [
    "rand_arr = np.random.random((2,3))\n",
    "np.set_printoptions(suppress = True)\n",
    "rand_arr"
   ]
  },
  {
   "cell_type": "code",
   "execution_count": 127,
   "id": "3fae0f44",
   "metadata": {},
   "outputs": [
    {
     "data": {
      "text/plain": [
       "array([ 0,  1,  2, ..., 27, 28, 29])"
      ]
     },
     "execution_count": 127,
     "metadata": {},
     "output_type": "execute_result"
    }
   ],
   "source": [
    "# limiting number of item prinited in array \n",
    "\n",
    "a = np.arange(30)\n",
    "\n",
    "# np.set_printoptions(threshold=4)\n",
    "a"
   ]
  },
  {
   "cell_type": "code",
   "execution_count": 137,
   "id": "87937ad5",
   "metadata": {},
   "outputs": [
    {
     "data": {
      "text/plain": [
       "array([ 0,  1,  2, ..., 27, 28, 29])"
      ]
     },
     "execution_count": 137,
     "metadata": {},
     "output_type": "execute_result"
    }
   ],
   "source": [
    "\n",
    "# b = np.arange(30)\n",
    "\n",
    "# np.set_printoptions(threshold=4)\n",
    "# b"
   ]
  },
  {
   "cell_type": "code",
   "execution_count": 142,
   "id": "29edf8f1",
   "metadata": {},
   "outputs": [
    {
     "name": "stdout",
     "output_type": "stream",
     "text": [
      "[[1 0 0]\n",
      " [0 1 0]\n",
      " [0 0 1]]\n"
     ]
    }
   ],
   "source": [
    "### create an identity numpy array of order 3\n",
    "np_arr = np.identity(3,dtype='int16')\n",
    "\n",
    "print(np_arr)"
   ]
  },
  {
   "cell_type": "code",
   "execution_count": 144,
   "id": "b5fde137",
   "metadata": {},
   "outputs": [
    {
     "name": "stdout",
     "output_type": "stream",
     "text": [
      "<class 'numpy.ndarray'> int16\n"
     ]
    }
   ],
   "source": [
    "print(type(np_arr),np_arr.dtype)"
   ]
  },
  {
   "cell_type": "code",
   "execution_count": 147,
   "id": "58b039cd",
   "metadata": {},
   "outputs": [
    {
     "data": {
      "text/plain": [
       "array([ 5,  6,  7,  8,  9, 10])"
      ]
     },
     "execution_count": 147,
     "metadata": {},
     "output_type": "execute_result"
    }
   ],
   "source": [
    "np.arange(5,11,1)"
   ]
  },
  {
   "cell_type": "code",
   "execution_count": 148,
   "id": "f2e3d9c9",
   "metadata": {},
   "outputs": [
    {
     "data": {
      "text/plain": [
       "array([5, 7, 9])"
      ]
     },
     "execution_count": 148,
     "metadata": {},
     "output_type": "execute_result"
    }
   ],
   "source": [
    "np.arange(5,11,2)"
   ]
  },
  {
   "cell_type": "code",
   "execution_count": 151,
   "id": "000852c4",
   "metadata": {},
   "outputs": [
    {
     "data": {
      "text/plain": [
       "array([5. , 5.4, 5.8, 6.2, 6.6])"
      ]
     },
     "execution_count": 151,
     "metadata": {},
     "output_type": "execute_result"
    }
   ],
   "source": [
    "np.arange(5,7,.4)"
   ]
  },
  {
   "cell_type": "code",
   "execution_count": 155,
   "id": "0cd6db45",
   "metadata": {},
   "outputs": [
    {
     "data": {
      "text/plain": [
       "array([9, 4, 5, 7, 9])"
      ]
     },
     "execution_count": 155,
     "metadata": {},
     "output_type": "execute_result"
    }
   ],
   "source": [
    "np.random.randint(0,10,5)"
   ]
  },
  {
   "cell_type": "code",
   "execution_count": 154,
   "id": "76dca5d9",
   "metadata": {},
   "outputs": [
    {
     "data": {
      "text/plain": [
       "array([3.563, 0.304, 9.056, 6.923, 2.369])"
      ]
     },
     "execution_count": 154,
     "metadata": {},
     "output_type": "execute_result"
    }
   ],
   "source": [
    "np.random.uniform(0,10,size = 5)"
   ]
  },
  {
   "cell_type": "code",
   "execution_count": null,
   "id": "0fddf86b",
   "metadata": {},
   "outputs": [],
   "source": []
  },
  {
   "cell_type": "code",
   "execution_count": null,
   "id": "ed676f04",
   "metadata": {},
   "outputs": [],
   "source": []
  },
  {
   "cell_type": "code",
   "execution_count": null,
   "id": "06ef834f",
   "metadata": {},
   "outputs": [],
   "source": []
  },
  {
   "cell_type": "code",
   "execution_count": null,
   "id": "cd47d2e9",
   "metadata": {},
   "outputs": [],
   "source": []
  },
  {
   "cell_type": "code",
   "execution_count": null,
   "id": "aea0b1bb",
   "metadata": {},
   "outputs": [],
   "source": []
  },
  {
   "cell_type": "code",
   "execution_count": null,
   "id": "79411b82",
   "metadata": {},
   "outputs": [],
   "source": []
  },
  {
   "cell_type": "code",
   "execution_count": null,
   "id": "f94e6912",
   "metadata": {},
   "outputs": [],
   "source": []
  },
  {
   "cell_type": "code",
   "execution_count": null,
   "id": "88a5337a",
   "metadata": {},
   "outputs": [],
   "source": []
  },
  {
   "cell_type": "code",
   "execution_count": null,
   "id": "755d3144",
   "metadata": {},
   "outputs": [],
   "source": []
  },
  {
   "cell_type": "code",
   "execution_count": null,
   "id": "ed26e468",
   "metadata": {},
   "outputs": [],
   "source": []
  },
  {
   "cell_type": "code",
   "execution_count": null,
   "id": "db2a5cd9",
   "metadata": {},
   "outputs": [],
   "source": []
  },
  {
   "cell_type": "code",
   "execution_count": null,
   "id": "1050b8aa",
   "metadata": {},
   "outputs": [],
   "source": []
  },
  {
   "cell_type": "code",
   "execution_count": null,
   "id": "0a9317e9",
   "metadata": {},
   "outputs": [],
   "source": []
  }
 ],
 "metadata": {
  "kernelspec": {
   "display_name": "Python 3 (ipykernel)",
   "language": "python",
   "name": "python3"
  },
  "language_info": {
   "codemirror_mode": {
    "name": "ipython",
    "version": 3
   },
   "file_extension": ".py",
   "mimetype": "text/x-python",
   "name": "python",
   "nbconvert_exporter": "python",
   "pygments_lexer": "ipython3",
   "version": "3.9.7"
  }
 },
 "nbformat": 4,
 "nbformat_minor": 5
}
