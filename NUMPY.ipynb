{
 "cells": [
  {
   "cell_type": "markdown",
   "id": "427516fc",
   "metadata": {},
   "source": [
    "## Numpy array vs Python lists\n",
    "\n",
    "- python numpy array are preferred over lists because they consume less space , memory and offers faster and easier computation."
   ]
  },
  {
   "cell_type": "code",
   "execution_count": 1,
   "id": "b6643fdc",
   "metadata": {},
   "outputs": [
    {
     "name": "stdout",
     "output_type": "stream",
     "text": [
      "7.178617715835571\n"
     ]
    }
   ],
   "source": [
    "# speed\n",
    "\n",
    "a = [i for i in range(10000000)]\n",
    "\n",
    "b = [i for i in range(10000000,20000000)]\n",
    "\n",
    "c = []\n",
    "\n",
    "import time\n",
    "start= time.time()\n",
    "\n",
    "for i in range(len(a)):\n",
    "    c.append(a[i]+b[i])\n",
    "print(time.time()-start)"
   ]
  },
  {
   "cell_type": "code",
   "execution_count": 2,
   "id": "866cd4b1",
   "metadata": {},
   "outputs": [
    {
     "name": "stdout",
     "output_type": "stream",
     "text": [
      "0.24007534980773926\n"
     ]
    }
   ],
   "source": [
    "import numpy as np\n",
    "\n",
    "a = np.arange(10000000)\n",
    "\n",
    "b = np.arange(10000000,20000000)\n",
    "\n",
    "start = time.time()\n",
    "\n",
    "c = a+b\n",
    "\n",
    "print(time.time()-start)"
   ]
  },
  {
   "cell_type": "code",
   "execution_count": null,
   "id": "6e286d42",
   "metadata": {},
   "outputs": [],
   "source": []
  },
  {
   "cell_type": "code",
   "execution_count": 3,
   "id": "7d2b9be8",
   "metadata": {},
   "outputs": [
    {
     "data": {
      "text/plain": [
       "89095160"
      ]
     },
     "execution_count": 3,
     "metadata": {},
     "output_type": "execute_result"
    }
   ],
   "source": [
    "a = [i for i in range(10000000)]\n",
    "\n",
    "import sys \n",
    "\n",
    "sys.getsizeof(a)"
   ]
  },
  {
   "cell_type": "code",
   "execution_count": 4,
   "id": "daf7de42",
   "metadata": {},
   "outputs": [
    {
     "data": {
      "text/plain": [
       "40000104"
      ]
     },
     "execution_count": 4,
     "metadata": {},
     "output_type": "execute_result"
    }
   ],
   "source": [
    "a=np.arange(10000000)\n",
    "sys.getsizeof(a)"
   ]
  },
  {
   "cell_type": "code",
   "execution_count": 5,
   "id": "a2707ba7",
   "metadata": {},
   "outputs": [],
   "source": [
    "l=[1,'aryan',2,2.33]"
   ]
  },
  {
   "cell_type": "code",
   "execution_count": 6,
   "id": "a4f8add9",
   "metadata": {},
   "outputs": [
    {
     "data": {
      "text/plain": [
       "'nayra'"
      ]
     },
     "execution_count": 6,
     "metadata": {},
     "output_type": "execute_result"
    }
   ],
   "source": [
    "l[1][::-1]"
   ]
  },
  {
   "cell_type": "code",
   "execution_count": 7,
   "id": "cd0e98eb",
   "metadata": {},
   "outputs": [],
   "source": [
    "l=[1,[1,2,[1,2,3,[1,2,3,4,[1,2,3,4,5]]]]]"
   ]
  },
  {
   "cell_type": "code",
   "execution_count": 8,
   "id": "524961be",
   "metadata": {},
   "outputs": [
    {
     "data": {
      "text/plain": [
       "2"
      ]
     },
     "execution_count": 8,
     "metadata": {},
     "output_type": "execute_result"
    }
   ],
   "source": [
    "l[1][2][3][::-1][3]"
   ]
  },
  {
   "cell_type": "markdown",
   "id": "6fb32a87",
   "metadata": {},
   "source": [
    "# Advanced Indexing"
   ]
  },
  {
   "cell_type": "code",
   "execution_count": 9,
   "id": "755639f9",
   "metadata": {},
   "outputs": [],
   "source": [
    "a = np.arange(12).reshape(3,4)"
   ]
  },
  {
   "cell_type": "code",
   "execution_count": 10,
   "id": "3b2db0ae",
   "metadata": {},
   "outputs": [
    {
     "data": {
      "text/plain": [
       "array([[ 0,  1,  2,  3],\n",
       "       [ 4,  5,  6,  7],\n",
       "       [ 8,  9, 10, 11]])"
      ]
     },
     "execution_count": 10,
     "metadata": {},
     "output_type": "execute_result"
    }
   ],
   "source": [
    "a"
   ]
  },
  {
   "cell_type": "code",
   "execution_count": 11,
   "id": "ea3af46e",
   "metadata": {},
   "outputs": [
    {
     "data": {
      "text/plain": [
       "array([[0, 1],\n",
       "       [4, 5]])"
      ]
     },
     "execution_count": 11,
     "metadata": {},
     "output_type": "execute_result"
    }
   ],
   "source": [
    "a[0:2,0:2]"
   ]
  },
  {
   "cell_type": "code",
   "execution_count": 12,
   "id": "afba4cee",
   "metadata": {},
   "outputs": [
    {
     "data": {
      "text/plain": [
       "array([[ 0,  1,  2,  3],\n",
       "       [ 8,  9, 10, 11]])"
      ]
     },
     "execution_count": 12,
     "metadata": {},
     "output_type": "execute_result"
    }
   ],
   "source": [
    "a[::2]"
   ]
  },
  {
   "cell_type": "code",
   "execution_count": 13,
   "id": "acc25fa7",
   "metadata": {},
   "outputs": [
    {
     "data": {
      "text/plain": [
       "array([[ 0,  1,  2,  3],\n",
       "       [ 4,  5,  6,  7],\n",
       "       [ 8,  9, 10, 11],\n",
       "       [12, 13, 14, 15],\n",
       "       [16, 17, 18, 19],\n",
       "       [20, 21, 22, 23]])"
      ]
     },
     "execution_count": 13,
     "metadata": {},
     "output_type": "execute_result"
    }
   ],
   "source": [
    "# Fancy Indexing\n",
    "\n",
    "a = np.arange(24).reshape(6,4)\n",
    "a"
   ]
  },
  {
   "cell_type": "code",
   "execution_count": 14,
   "id": "050c606f",
   "metadata": {},
   "outputs": [
    {
     "data": {
      "text/plain": [
       "array([[ 0,  1,  2,  3],\n",
       "       [ 4,  5,  6,  7],\n",
       "       [12, 13, 14, 15]])"
      ]
     },
     "execution_count": 14,
     "metadata": {},
     "output_type": "execute_result"
    }
   ],
   "source": [
    "a[[0,1,3]]"
   ]
  },
  {
   "cell_type": "code",
   "execution_count": 15,
   "id": "94f396e4",
   "metadata": {},
   "outputs": [
    {
     "data": {
      "text/plain": [
       "array([[ 0,  2,  3],\n",
       "       [ 4,  6,  7],\n",
       "       [ 8, 10, 11],\n",
       "       [12, 14, 15],\n",
       "       [16, 18, 19],\n",
       "       [20, 22, 23]])"
      ]
     },
     "execution_count": 15,
     "metadata": {},
     "output_type": "execute_result"
    }
   ],
   "source": [
    "a[:,[0,2,3]]"
   ]
  },
  {
   "cell_type": "code",
   "execution_count": 16,
   "id": "2c8320ae",
   "metadata": {},
   "outputs": [],
   "source": [
    "# Boolean Indexing\n",
    "\n",
    "arr = np.random.randint(1,100,24).reshape(8,3)"
   ]
  },
  {
   "cell_type": "code",
   "execution_count": 17,
   "id": "b9b87f43",
   "metadata": {},
   "outputs": [
    {
     "data": {
      "text/plain": [
       "array([69, 62, 56, 90, 62, 76, 54, 68, 66, 76, 66, 67, 60])"
      ]
     },
     "execution_count": 17,
     "metadata": {},
     "output_type": "execute_result"
    }
   ],
   "source": [
    "arr[arr > 50]"
   ]
  },
  {
   "cell_type": "code",
   "execution_count": 18,
   "id": "dc4cb848",
   "metadata": {},
   "outputs": [
    {
     "data": {
      "text/plain": [
       "array([46, 44, 62, 42, 56, 90, 12, 62, 14, 76, 54, 68, 66, 76,  8, 66, 60])"
      ]
     },
     "execution_count": 18,
     "metadata": {},
     "output_type": "execute_result"
    }
   ],
   "source": [
    "arr[arr%2==0]"
   ]
  },
  {
   "cell_type": "code",
   "execution_count": 19,
   "id": "b90804a8",
   "metadata": {},
   "outputs": [
    {
     "data": {
      "text/plain": [
       "array([62, 56, 90, 62, 76, 54, 68, 66, 76, 66, 60])"
      ]
     },
     "execution_count": 19,
     "metadata": {},
     "output_type": "execute_result"
    }
   ],
   "source": [
    "arr[(arr > 50) & (arr%2==0)]  ## Use bitwise and (&) because we are working with boolean values"
   ]
  },
  {
   "cell_type": "code",
   "execution_count": 20,
   "id": "5995f56c",
   "metadata": {},
   "outputs": [
    {
     "data": {
      "text/plain": [
       "array([42, 56, 14, 35])"
      ]
     },
     "execution_count": 20,
     "metadata": {},
     "output_type": "execute_result"
    }
   ],
   "source": [
    "arr[arr % 7==0]"
   ]
  },
  {
   "cell_type": "code",
   "execution_count": 21,
   "id": "06877444",
   "metadata": {},
   "outputs": [
    {
     "data": {
      "text/plain": [
       "array([46, 69, 44, 62, 90, 12, 62, 15, 76,  5, 54, 68, 11, 66, 76,  8, 66,\n",
       "       67, 27, 60])"
      ]
     },
     "execution_count": 21,
     "metadata": {},
     "output_type": "execute_result"
    }
   ],
   "source": [
    "arr[arr % 7!=0]"
   ]
  },
  {
   "cell_type": "code",
   "execution_count": 22,
   "id": "62f6c2f7",
   "metadata": {},
   "outputs": [
    {
     "data": {
      "text/plain": [
       "array([46, 69, 44, 62, 90, 12, 62, 15, 76,  5, 54, 68, 11, 66, 76,  8, 66,\n",
       "       67, 27, 60])"
      ]
     },
     "execution_count": 22,
     "metadata": {},
     "output_type": "execute_result"
    }
   ],
   "source": [
    "arr[~(arr % 7==0)]"
   ]
  },
  {
   "cell_type": "markdown",
   "id": "d1b67624",
   "metadata": {},
   "source": [
    "# Broadcasting\n",
    "\n",
    "The term broadcasting treats array of different shapes during arithmetic operations.\n",
    "\n",
    "The smaller array is \"broadcast\" across larger array so that they have compatible size."
   ]
  },
  {
   "cell_type": "code",
   "execution_count": 23,
   "id": "ee95069b",
   "metadata": {},
   "outputs": [
    {
     "name": "stdout",
     "output_type": "stream",
     "text": [
      "[[0 1 2]\n",
      " [3 4 5]]\n",
      "[0 1 2]\n"
     ]
    }
   ],
   "source": [
    "arr1 = np.arange(6).reshape(2,3)\n",
    "\n",
    "arr2 = np.arange(3)\n",
    "\n",
    "\n",
    "print(arr1)\n",
    "\n",
    "print(arr2)"
   ]
  },
  {
   "cell_type": "code",
   "execution_count": 24,
   "id": "b601cbeb",
   "metadata": {},
   "outputs": [
    {
     "data": {
      "text/plain": [
       "array([[0, 2, 4],\n",
       "       [3, 5, 7]])"
      ]
     },
     "execution_count": 24,
     "metadata": {},
     "output_type": "execute_result"
    }
   ],
   "source": [
    "arr1+arr2"
   ]
  },
  {
   "cell_type": "code",
   "execution_count": 25,
   "id": "0ab28586",
   "metadata": {},
   "outputs": [
    {
     "data": {
      "text/plain": [
       "array([[2, 2, 2],\n",
       "       [2, 2, 2]])"
      ]
     },
     "execution_count": 25,
     "metadata": {},
     "output_type": "execute_result"
    }
   ],
   "source": [
    "np.full((2,3),2)"
   ]
  },
  {
   "cell_type": "markdown",
   "id": "a905df5a",
   "metadata": {},
   "source": [
    "### Broadcasting Rules\n",
    "\n",
    "1. Make the two arrays have the same number of dimensions.\n",
    "   -   If the numbers of dimensions of the two arrays are different , add new dimensions with size 1 to the head of the array with the smaller dimensions."
   ]
  },
  {
   "cell_type": "markdown",
   "id": "b81c1d05",
   "metadata": {},
   "source": [
    "2. Make each dimensions of the two array of the same size.\n",
    "      - If the size of each dimensions of the array do not match , dimensions with size 1 are stretched to size of the other array.\n",
    "      - If there is a dimension whose size is not 1 in either of the two arrays, it cannot be broadcasted and an error is raised."
   ]
  },
  {
   "cell_type": "code",
   "execution_count": 26,
   "id": "6be645df",
   "metadata": {},
   "outputs": [
    {
     "name": "stdout",
     "output_type": "stream",
     "text": [
      "[[0 1 2]]\n",
      "[[0]\n",
      " [1]\n",
      " [2]]\n"
     ]
    },
    {
     "data": {
      "text/plain": [
       "array([[0, 1, 2],\n",
       "       [1, 2, 3],\n",
       "       [2, 3, 4]])"
      ]
     },
     "execution_count": 26,
     "metadata": {},
     "output_type": "execute_result"
    }
   ],
   "source": [
    "a = np.arange(3).reshape(1,3)\n",
    "\n",
    "b = np.arange(3).reshape(3,1)\n",
    "\n",
    "print(a)\n",
    "print(b)\n",
    "\n",
    "a + b"
   ]
  },
  {
   "cell_type": "code",
   "execution_count": 27,
   "id": "f5ef9935",
   "metadata": {},
   "outputs": [
    {
     "name": "stdout",
     "output_type": "stream",
     "text": [
      "[[ 0  1  2  3]\n",
      " [ 4  5  6  7]\n",
      " [ 8  9 10 11]]\n",
      "[[ 0  1  2]\n",
      " [ 3  4  5]\n",
      " [ 6  7  8]\n",
      " [ 9 10 11]]\n"
     ]
    },
    {
     "ename": "ValueError",
     "evalue": "operands could not be broadcast together with shapes (3,4) (4,3) ",
     "output_type": "error",
     "traceback": [
      "\u001b[1;31m---------------------------------------------------------------------------\u001b[0m",
      "\u001b[1;31mValueError\u001b[0m                                Traceback (most recent call last)",
      "\u001b[1;32m~\\AppData\\Local\\Temp/ipykernel_14880/3281695505.py\u001b[0m in \u001b[0;36m<module>\u001b[1;34m\u001b[0m\n\u001b[0;32m      7\u001b[0m \u001b[0mprint\u001b[0m\u001b[1;33m(\u001b[0m\u001b[0mb\u001b[0m\u001b[1;33m)\u001b[0m\u001b[1;33m\u001b[0m\u001b[1;33m\u001b[0m\u001b[0m\n\u001b[0;32m      8\u001b[0m \u001b[1;33m\u001b[0m\u001b[0m\n\u001b[1;32m----> 9\u001b[1;33m \u001b[0mprint\u001b[0m\u001b[1;33m(\u001b[0m\u001b[0ma\u001b[0m\u001b[1;33m+\u001b[0m\u001b[0mb\u001b[0m\u001b[1;33m)\u001b[0m\u001b[1;33m\u001b[0m\u001b[1;33m\u001b[0m\u001b[0m\n\u001b[0m",
      "\u001b[1;31mValueError\u001b[0m: operands could not be broadcast together with shapes (3,4) (4,3) "
     ]
    }
   ],
   "source": [
    "a = np.arange(12).reshape(3,4)\n",
    "\n",
    "b = np.arange(12).reshape(4,3)\n",
    "\n",
    "print(a)\n",
    "\n",
    "print(b)\n",
    "\n",
    "print(a+b)"
   ]
  },
  {
   "cell_type": "code",
   "execution_count": 28,
   "id": "b983097a",
   "metadata": {},
   "outputs": [
    {
     "name": "stdout",
     "output_type": "stream",
     "text": [
      "[[ 0  1  2  3]\n",
      " [ 4  5  6  7]\n",
      " [ 8  9 10 11]\n",
      " [12 13 14 15]]\n",
      "[[0 1]\n",
      " [2 3]]\n"
     ]
    },
    {
     "ename": "ValueError",
     "evalue": "operands could not be broadcast together with shapes (4,4) (2,2) ",
     "output_type": "error",
     "traceback": [
      "\u001b[1;31m---------------------------------------------------------------------------\u001b[0m",
      "\u001b[1;31mValueError\u001b[0m                                Traceback (most recent call last)",
      "\u001b[1;32m~\\AppData\\Local\\Temp/ipykernel_14880/2816885392.py\u001b[0m in \u001b[0;36m<module>\u001b[1;34m\u001b[0m\n\u001b[0;32m      7\u001b[0m \u001b[0mprint\u001b[0m\u001b[1;33m(\u001b[0m\u001b[0mb\u001b[0m\u001b[1;33m)\u001b[0m\u001b[1;33m\u001b[0m\u001b[1;33m\u001b[0m\u001b[0m\n\u001b[0;32m      8\u001b[0m \u001b[1;33m\u001b[0m\u001b[0m\n\u001b[1;32m----> 9\u001b[1;33m \u001b[0mprint\u001b[0m\u001b[1;33m(\u001b[0m\u001b[0ma\u001b[0m\u001b[1;33m+\u001b[0m\u001b[0mb\u001b[0m\u001b[1;33m)\u001b[0m\u001b[1;33m\u001b[0m\u001b[1;33m\u001b[0m\u001b[0m\n\u001b[0m",
      "\u001b[1;31mValueError\u001b[0m: operands could not be broadcast together with shapes (4,4) (2,2) "
     ]
    }
   ],
   "source": [
    "a = np.arange(16).reshape(4,4)\n",
    "\n",
    "b = np.arange(4).reshape(2,2)\n",
    "\n",
    "print(a)\n",
    "\n",
    "print(b)\n",
    "\n",
    "print(a+b)"
   ]
  },
  {
   "cell_type": "markdown",
   "id": "ff5fbd7c",
   "metadata": {},
   "source": [
    "# Working with mathematical formulas"
   ]
  },
  {
   "cell_type": "code",
   "execution_count": 29,
   "id": "e5613ae7",
   "metadata": {},
   "outputs": [
    {
     "data": {
      "text/plain": [
       "array([0.5       , 0.73105858, 0.88079708, 0.95257413, 0.98201379,\n",
       "       0.99330715, 0.99752738, 0.99908895, 0.99966465, 0.99987661])"
      ]
     },
     "execution_count": 29,
     "metadata": {},
     "output_type": "execute_result"
    }
   ],
   "source": [
    "#sigmoid\n",
    "def sigmoid(array):\n",
    "    return np.exp(array)/(np.exp(array)+1)\n",
    "\n",
    "\n",
    "a = np.arange(10)\n",
    "\n",
    "sigmoid(a)"
   ]
  },
  {
   "cell_type": "code",
   "execution_count": 30,
   "id": "1fb2c0b7",
   "metadata": {},
   "outputs": [],
   "source": [
    "#mean square error\n",
    "\n",
    "actual =  np.random.randint(1,50,25)\n",
    "\n",
    "predict = np.random.randint(1,50,25)\n"
   ]
  },
  {
   "cell_type": "code",
   "execution_count": 31,
   "id": "fde03bb7",
   "metadata": {},
   "outputs": [],
   "source": [
    "def mse(actual,predicted):\n",
    "        return np.mean((actual - predicted)**2 )"
   ]
  },
  {
   "cell_type": "code",
   "execution_count": 32,
   "id": "582bdf93",
   "metadata": {},
   "outputs": [
    {
     "data": {
      "text/plain": [
       "465.44"
      ]
     },
     "execution_count": 32,
     "metadata": {},
     "output_type": "execute_result"
    }
   ],
   "source": [
    "mse(actual,predict)"
   ]
  },
  {
   "cell_type": "code",
   "execution_count": 56,
   "id": "c1f5fe5c",
   "metadata": {},
   "outputs": [],
   "source": [
    "#binary cross entropy\n",
    "\n",
    "def binary_cross_entropy(actual,predicted):\n",
    "    return -np.mean((actual * np.log(predicted))+((1-actual) * (np.log(predicted))))"
   ]
  },
  {
   "cell_type": "code",
   "execution_count": 57,
   "id": "23a6bb23",
   "metadata": {},
   "outputs": [
    {
     "data": {
      "text/plain": [
       "-2.7525621544695853"
      ]
     },
     "execution_count": 57,
     "metadata": {},
     "output_type": "execute_result"
    }
   ],
   "source": [
    "binary_cross_entropy(actual,predict)"
   ]
  },
  {
   "cell_type": "code",
   "execution_count": 53,
   "id": "40df5e4f",
   "metadata": {},
   "outputs": [
    {
     "data": {
      "text/plain": [
       "array([3.71357207, 3.80666249, 1.38629436, 3.63758616, 3.66356165,\n",
       "       3.4339872 , 2.83321334, 0.        , 2.56494936, 3.09104245,\n",
       "       3.21887582, 3.52636052, 3.58351894, 3.25809654, 3.21887582,\n",
       "       3.76120012, 1.94591015, 2.07944154, 3.71357207, 2.77258872,\n",
       "       2.7080502 , 3.76120012, 0.        , 3.13549422, 0.        ])"
      ]
     },
     "execution_count": 53,
     "metadata": {},
     "output_type": "execute_result"
    }
   ],
   "source": [
    "np.log(predict)"
   ]
  },
  {
   "cell_type": "markdown",
   "id": "48228a76",
   "metadata": {},
   "source": [
    "## Working with missing values"
   ]
  },
  {
   "cell_type": "code",
   "execution_count": null,
   "id": "eec8886d",
   "metadata": {},
   "outputs": [],
   "source": [
    "a= np.array([1,2,3,4,np.nan,6])\n",
    "a"
   ]
  },
  {
   "cell_type": "code",
   "execution_count": null,
   "id": "e9c56863",
   "metadata": {},
   "outputs": [],
   "source": [
    "a[~(np.isnan(a))]"
   ]
  },
  {
   "cell_type": "markdown",
   "id": "8be47d03",
   "metadata": {},
   "source": [
    "# Plotting graphs"
   ]
  },
  {
   "cell_type": "code",
   "execution_count": null,
   "id": "2bb19ae8",
   "metadata": {},
   "outputs": [],
   "source": [
    "x = np.linspace(-10,10,100)\n",
    "y = x"
   ]
  },
  {
   "cell_type": "code",
   "execution_count": null,
   "id": "f44ed429",
   "metadata": {},
   "outputs": [],
   "source": [
    "import matplotlib.pyplot as plt"
   ]
  },
  {
   "cell_type": "code",
   "execution_count": null,
   "id": "199157cf",
   "metadata": {},
   "outputs": [],
   "source": [
    "plt.plot(x,y)"
   ]
  },
  {
   "cell_type": "code",
   "execution_count": null,
   "id": "a5fd2919",
   "metadata": {},
   "outputs": [],
   "source": [
    "y = x**2"
   ]
  },
  {
   "cell_type": "code",
   "execution_count": null,
   "id": "7da44305",
   "metadata": {},
   "outputs": [],
   "source": [
    "plt.plot(x,y)\n"
   ]
  },
  {
   "cell_type": "code",
   "execution_count": null,
   "id": "8a6bed87",
   "metadata": {},
   "outputs": [],
   "source": [
    "y = np.sin(x)"
   ]
  },
  {
   "cell_type": "code",
   "execution_count": null,
   "id": "401f289e",
   "metadata": {},
   "outputs": [],
   "source": [
    "plt.plot(x,y)"
   ]
  },
  {
   "cell_type": "code",
   "execution_count": null,
   "id": "18aff769",
   "metadata": {},
   "outputs": [],
   "source": [
    "y = x*np.log(x)"
   ]
  },
  {
   "cell_type": "code",
   "execution_count": null,
   "id": "64824b6d",
   "metadata": {},
   "outputs": [],
   "source": [
    "plt.plot(x,y)"
   ]
  },
  {
   "cell_type": "code",
   "execution_count": null,
   "id": "ceb2c0ff",
   "metadata": {},
   "outputs": [],
   "source": [
    "## sigmoid graph\n",
    "\n",
    "y = sigmoid(x)"
   ]
  },
  {
   "cell_type": "code",
   "execution_count": null,
   "id": "59679fb4",
   "metadata": {},
   "outputs": [],
   "source": [
    "plt.plot(x,y)"
   ]
  },
  {
   "cell_type": "code",
   "execution_count": null,
   "id": "8e6ff491",
   "metadata": {},
   "outputs": [],
   "source": []
  },
  {
   "cell_type": "code",
   "execution_count": null,
   "id": "ec1d1432",
   "metadata": {},
   "outputs": [],
   "source": []
  },
  {
   "cell_type": "code",
   "execution_count": null,
   "id": "d16fc556",
   "metadata": {},
   "outputs": [],
   "source": []
  },
  {
   "cell_type": "code",
   "execution_count": null,
   "id": "ad44d965",
   "metadata": {},
   "outputs": [],
   "source": []
  },
  {
   "cell_type": "code",
   "execution_count": null,
   "id": "8dd5fe68",
   "metadata": {},
   "outputs": [],
   "source": []
  },
  {
   "cell_type": "code",
   "execution_count": null,
   "id": "73b5d156",
   "metadata": {},
   "outputs": [],
   "source": []
  },
  {
   "cell_type": "code",
   "execution_count": null,
   "id": "8b6fc48e",
   "metadata": {},
   "outputs": [],
   "source": []
  },
  {
   "cell_type": "code",
   "execution_count": null,
   "id": "85f8ffd1",
   "metadata": {},
   "outputs": [],
   "source": []
  }
 ],
 "metadata": {
  "kernelspec": {
   "display_name": "Python 3 (ipykernel)",
   "language": "python",
   "name": "python3"
  },
  "language_info": {
   "codemirror_mode": {
    "name": "ipython",
    "version": 3
   },
   "file_extension": ".py",
   "mimetype": "text/x-python",
   "name": "python",
   "nbconvert_exporter": "python",
   "pygments_lexer": "ipython3",
   "version": "3.9.7"
  }
 },
 "nbformat": 4,
 "nbformat_minor": 5
}
